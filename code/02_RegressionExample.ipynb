{
 "cells": [
  {
   "cell_type": "code",
   "execution_count": 1,
   "metadata": {},
   "outputs": [
    {
     "name": "stderr",
     "output_type": "stream",
     "text": [
      "/home/jakob/Documents/PhD/Projects/ModalityRelevanceScores/venv/lib/python3.9/site-packages/tqdm/auto.py:21: TqdmWarning: IProgress not found. Please update jupyter and ipywidgets. See https://ipywidgets.readthedocs.io/en/stable/user_install.html\n",
      "  from .autonotebook import tqdm as notebook_tqdm\n"
     ]
    }
   ],
   "source": [
    "from torch.nn import Module, Linear, ReLU\n",
    "from models.network_mapper import to_basic_representation, to_relevance_representation\n",
    "from utils.Utils import input_mapping\n",
    "\n",
    "%matplotlib inline\n",
    "import pylab as pl\n",
    "import torch\n",
    "from IPython import display\n",
    "import time\n",
    "\n",
    "device = \"cuda\" if torch.cuda.is_available() else \"cpu\""
   ]
  },
  {
   "cell_type": "markdown",
   "metadata": {},
   "source": [
    "### Define target function, model with basic pytorch functionalities (without data source relevance propagation)"
   ]
  },
  {
   "cell_type": "code",
   "execution_count": null,
   "metadata": {},
   "outputs": [],
   "source": [
    "f2 = lambda x: (x[0])**3 + 0.1* torch.randn_like(x[1])\n",
    "\n",
    "class Model(Module):\n",
    "    def __init__(self) -> None:\n",
    "        super().__init__()\n",
    "\n",
    "        self.relu = ReLU()\n",
    "        self.linear1 = Linear(2, 32, bias=True)\n",
    "        self.linear2 = Linear(32, 32, bias=True)\n",
    "        self.linear3 = Linear(32, 32, bias=True)\n",
    "        self.mu = Linear(32, 1, bias=True)\n",
    "\n",
    "    def forward(self, x):\n",
    "\n",
    "        x = self.linear1(x)\n",
    "        x = self.relu(x)\n",
    "        x = self.linear2(x) \n",
    "        x = self.relu(x)\n",
    "        x = self.linear3(x)\n",
    "        x = self.relu(x)\n",
    "        mu = self.mu(x)\n",
    "\n",
    "        return mu\n",
    "\n",
    "model = Model().to(device)"
   ]
  },
  {
   "cell_type": "markdown",
   "metadata": {},
   "source": [
    "### Change model to Modality Relevance Propagation and defined input mapping to relevance representation"
   ]
  },
  {
   "cell_type": "code",
   "execution_count": null,
   "metadata": {},
   "outputs": [],
   "source": [
    "optimizer = torch.optim.Adam([{\"params\": model.parameters(), \"lr\": 0.001}])\n",
    "batch_size = 4096\n",
    "num_iter = 10000000"
   ]
  },
  {
   "cell_type": "markdown",
   "metadata": {},
   "source": [
    "### Train Network and visualize Source Relevances"
   ]
  },
  {
   "cell_type": "code",
   "execution_count": null,
   "metadata": {},
   "outputs": [],
   "source": [
    "\n",
    "model = to_relevance_representation(model, verbose=0)\n",
    "\n",
    "for i in range(num_iter):\n",
    "    optimizer.zero_grad()\n",
    "    x1 = ((torch.rand((batch_size, 1))-0.5) * 6).to(device)\n",
    "    x2 = ((torch.rand((batch_size, 1))-0.5) * 6).to(device)\n",
    "    y = f2([x1, x2])\n",
    "  \n",
    "    x = input_mapping(x1, x2)\n",
    "    y_mu = model(torch.cat(x,-1))    \n",
    "    m = y_mu.sum(0)\n",
    "\n",
    "    loss  = (y-m)**2\n",
    "    loss = loss.mean()\n",
    "    loss.backward()\n",
    "    optimizer.step()\n",
    "\n",
    "    with torch.no_grad():\n",
    "      x1 = torch.arange(start=-3, end=3.0001, step=0.01).unsqueeze(-1).to(device)\n",
    "      x2 = (torch.rand_like(x1, device=device)-0.5)*6\n",
    "\n",
    "      x = input_mapping(x1, x2)\n",
    "      y_mu = model(torch.cat(x, -1))\n",
    "\n",
    "      x1 = x1.cpu()\n",
    "      x2 = x2.cpu()\n",
    "      y_mu = y_mu.detach().cpu()\n",
    "\n",
    "      if i%100==0:\n",
    "          pl.clf()\n",
    "\n",
    "          pl.plot(x1, f2([x1,x2]), \"*\", label=\"Noisy Function\")\n",
    "          pl.plot(x1 ,y_mu[0].detach(), \"x\", label=\"Bias\", )\n",
    "          pl.plot(x1 ,y_mu[1].detach(), \"o\", label=\"Source 1\")\n",
    "          pl.plot(x1 ,y_mu[2].detach(), \"--\", label=\"Source 2\")\n",
    "          pl.plot(x1 ,y_mu.sum(0).detach(), label=\"Pred\")\n",
    "\n",
    "\n",
    "          pl.legend()\n",
    "          pl.title(f\"Iter {i} -  Loss: {loss.cpu().item()}\")\n",
    "          display.display(pl.gcf())\n",
    "          display.clear_output(wait=True)\n",
    "          time.sleep(0.001)\n",
    "\n",
    "model = to_basic_representation(model=model, verbose=0)"
   ]
  }
 ],
 "metadata": {
  "kernelspec": {
   "display_name": "venv",
   "language": "python",
   "name": "python3"
  },
  "language_info": {
   "codemirror_mode": {
    "name": "ipython",
    "version": 3
   },
   "file_extension": ".py",
   "mimetype": "text/x-python",
   "name": "python",
   "nbconvert_exporter": "python",
   "pygments_lexer": "ipython3",
   "version": "3.9.12"
  },
  "orig_nbformat": 4
 },
 "nbformat": 4,
 "nbformat_minor": 2
}
